{
  "nbformat": 4,
  "nbformat_minor": 0,
  "metadata": {
    "colab": {
      "name": "ROB7.ipynb",
      "provenance": [],
      "collapsed_sections": []
    },
    "kernelspec": {
      "name": "python3",
      "display_name": "Python 3"
    },
    "language_info": {
      "name": "python"
    },
    "accelerator": "GPU"
  },
  "cells": [
    {
      "cell_type": "code",
      "source": [
        "import torch # a Tensor library like NumPy, with strong GPU support\n",
        "import torch.optim as optim # functions related to optimization algorithms\n",
        "\n",
        "import torch.nn as nn # a neural networks library deeply integrated with autograd designed for maximum flexibility\n",
        "import torch.nn.functional as F\n",
        "from torch import no_grad\n",
        "\n",
        "# nn and nn.functional works kinda similarly. If you are interested in their subtile difference, please check out this discussion https://discuss.pytorch.org/t/what-is-the-difference-between-torch-nn-and-torch-nn-functional/33597\n",
        "\n",
        "from torch.utils.data import DataLoader # utility functions such as DataLoader\n",
        "\n",
        "import torchvision\n",
        "import torchvision.transforms as transforms\n",
        "import torchvision.datasets as datasets\n",
        "\n",
        "from sklearn.metrics import confusion_matrix\n",
        "from sklearn.metrics import ConfusionMatrixDisplay\n",
        "\n",
        "import matplotlib.pyplot as plt\n",
        "import numpy as np\n",
        "\n",
        "import copy\n",
        "import random\n",
        "import time\n",
        "import cv2\n",
        "\n",
        "import pandas as pd\n",
        "import numpy as np\n",
        "import os\n",
        "import pickle\n",
        "%matplotlib inline"
      ],
      "metadata": {
        "id": "QoxHU47umkFh"
      },
      "execution_count": 7,
      "outputs": []
    },
    {
      "cell_type": "code",
      "source": [
        "torch.cuda.is_available()"
      ],
      "metadata": {
        "colab": {
          "base_uri": "https://localhost:8080/"
        },
        "id": "Xb_3h10wmktQ",
        "outputId": "62a16f54-ba39-474c-9eb4-53f729428297"
      },
      "execution_count": 8,
      "outputs": [
        {
          "output_type": "execute_result",
          "data": {
            "text/plain": [
              "True"
            ]
          },
          "metadata": {},
          "execution_count": 8
        }
      ]
    },
    {
      "cell_type": "code",
      "source": [
        "np.set_printoptions(suppress=True)\n",
        "\n",
        "trainingdata = torchvision.datasets.FashionMNIST('./FashionMNIST/',train=True,download=True,transform=torchvision.transforms.ToTensor())\n",
        "testdata = torchvision.datasets.FashionMNIST('./FashionMNIST/',train=False,download=True,transform=torchvision.transforms.ToTensor())\n",
        "\n",
        "train_dataLoader= DataLoader(trainingdata,batch_size=64,shuffle=True)\n",
        "val_dataloader= DataLoader(testdata,batch_size=5000)\n",
        "images,labels=next(iter(train_dataLoader))"
      ],
      "metadata": {
        "id": "yWTCtrdommUf"
      },
      "execution_count": 9,
      "outputs": []
    },
    {
      "cell_type": "code",
      "source": [
        "val_test_data=list(iter(val_dataloader))\n",
        "val_images,val_labels=val_test_data[0]\n",
        "\n",
        "test_images,test_labels=val_test_data[1]\n",
        "test_images=test_images.reshape(-1,784)\n",
        "\n",
        "val_images=val_images.reshape(-1,784)\n",
        "\n",
        "model=nn.Sequential(\n",
        "    nn.Linear(784,128),\n",
        "    nn.ReLU(),\n",
        "    nn.Dropout(p=0.2),\n",
        "    nn.Linear(128,64),\n",
        "    nn.ReLU(),\n",
        "    nn.Dropout(p=0.2),\n",
        "    nn.Linear(64,10),\n",
        "    nn.LogSoftmax(dim=1)\n",
        ")"
      ],
      "metadata": {
        "id": "m1jiR9-zmtR-"
      },
      "execution_count": 10,
      "outputs": []
    },
    {
      "cell_type": "code",
      "source": [
        "def epoch_time(start_time, end_time):\n",
        "    elapsed_time = end_time - start_time\n",
        "    elapsed_mins = int(elapsed_time / 60)\n",
        "    elapsed_secs = int(elapsed_time - (elapsed_mins * 60))\n",
        "    return elapsed_mins, elapsed_secs"
      ],
      "metadata": {
        "id": "2PbrTG3vnBGs"
      },
      "execution_count": 11,
      "outputs": []
    },
    {
      "cell_type": "code",
      "source": [
        "criterion=nn.NLLLoss()\n",
        "optimizer=optim.Adam(model.parameters(),lr=0.01)\n",
        "#load data and model to gpu\n",
        "\n",
        "model.to('cuda')\n",
        "val_images,val_labels=val_images.cuda(),val_labels.cuda()\n",
        "EPOCHS = 25\n",
        "\n",
        "train_loss_history= []\n",
        "val_loss_history= []\n",
        "\n",
        "train_acc_history= []\n",
        "val_acc_history= []\n",
        "\n",
        "for epoch in range(EPOCHS):\n",
        "    start_time = time.time() # record start time\n",
        "    running_loss = 0\n",
        "    running_acc = 0\n",
        "    \n",
        "    for images,labels in train_dataLoader:\n",
        "        images,labels=images.cuda(),labels.cuda()   \n",
        "        \n",
        "        X=images.view(-1,784)\n",
        "        \n",
        "        \n",
        "        torch.save(model, './model_'+str(epoch)+'.pt')\n",
        "\n",
        "        optimizer.zero_grad()\n",
        "        output=model.forward(X)\n",
        "        loss=criterion(output,labels)\n",
        "        \n",
        "        result=torch.argmax(output,dim=1)\n",
        "        running_loss+=loss.item()\n",
        "        running_acc+=torch.mean((result==labels).type(torch.float))\n",
        "        \n",
        "        loss.backward()\n",
        "        optimizer.step()\n",
        "\n",
        "    else:\n",
        "        train_loss=running_loss/len(train_dataLoader)\n",
        "        train_acc=running_acc/len(train_dataLoader)\n",
        "        \n",
        "        with no_grad():\n",
        "            model.eval()\n",
        "            output=model.forward(val_images)\n",
        "            val_loss=criterion(output,val_labels)\n",
        "            model.train()\n",
        "        \n",
        "        result_labels=torch.argmax(output,dim=1)\n",
        "        accuracy=torch.mean((result_labels==val_labels).type(torch.float))\n",
        "        \n",
        "        train_loss_history.append(train_loss)\n",
        "        val_loss_history.append(val_loss.item())\n",
        "        \n",
        "        train_acc_history.append(train_acc.item())\n",
        "        val_acc_history.append(accuracy.item())\n",
        "        \n",
        "        end_time = time.time()\n",
        "        minute, second = epoch_time(start_time, end_time)\n",
        "    \n",
        "        print(f'Epoch: {epoch+1}/{EPOCHS}') \n",
        "        print(f'Training Loss: {train_loss}.. Validation Loss: {val_loss}')\n",
        "        print(f'Training Accuracy: {train_acc}.. Validtion Accuracy: {accuracy}')\n",
        "        print(f'Time Elapsed: {minute} in minute.. {second} in second')\n",
        "        print('')\n",
        "        "
      ],
      "metadata": {
        "colab": {
          "base_uri": "https://localhost:8080/"
        },
        "id": "XfZaqPVlm29I",
        "outputId": "f9f43caa-bf3f-42ae-a4b1-015bf10bb114"
      },
      "execution_count": null,
      "outputs": [
        {
          "output_type": "stream",
          "name": "stdout",
          "text": [
            "Epoch: 1/25\n",
            "Training Loss: 0.6404233677650312.. Validation Loss: 0.5186417102813721\n",
            "Training Accuracy: 0.7671575546264648.. Validtion Accuracy: 0.817799985408783\n",
            "Time Elapsed: 0 in minute.. 16 in second\n",
            "\n",
            "Epoch: 2/25\n",
            "Training Loss: 0.5610688782926562.. Validation Loss: 0.5176253914833069\n",
            "Training Accuracy: 0.8015725016593933.. Validtion Accuracy: 0.7989999651908875\n",
            "Time Elapsed: 0 in minute.. 12 in second\n",
            "\n",
            "Epoch: 3/25\n",
            "Training Loss: 0.5339445419657205.. Validation Loss: 0.458041250705719\n",
            "Training Accuracy: 0.8143823742866516.. Validtion Accuracy: 0.8405999541282654\n",
            "Time Elapsed: 0 in minute.. 12 in second\n",
            "\n",
            "Epoch: 4/25\n",
            "Training Loss: 0.5199949301954018.. Validation Loss: 0.4639351963996887\n",
            "Training Accuracy: 0.8175473213195801.. Validtion Accuracy: 0.8389999866485596\n",
            "Time Elapsed: 0 in minute.. 14 in second\n",
            "\n",
            "Epoch: 5/25\n",
            "Training Loss: 0.5171977080611277.. Validation Loss: 0.46013906598091125\n",
            "Training Accuracy: 0.8227112293243408.. Validtion Accuracy: 0.8509999513626099\n",
            "Time Elapsed: 0 in minute.. 11 in second\n",
            "\n",
            "Epoch: 6/25\n",
            "Training Loss: 0.495183610617479.. Validation Loss: 0.4260823726654053\n",
            "Training Accuracy: 0.8263759613037109.. Validtion Accuracy: 0.8501999974250793\n",
            "Time Elapsed: 0 in minute.. 12 in second\n",
            "\n",
            "Epoch: 7/25\n",
            "Training Loss: 0.49897881770438984.. Validation Loss: 0.45565152168273926\n",
            "Training Accuracy: 0.8281083703041077.. Validtion Accuracy: 0.8395999670028687\n",
            "Time Elapsed: 0 in minute.. 11 in second\n",
            "\n",
            "Epoch: 8/25\n",
            "Training Loss: 0.5004389423932603.. Validation Loss: 0.45547881722450256\n",
            "Training Accuracy: 0.8279584646224976.. Validtion Accuracy: 0.8434000015258789\n",
            "Time Elapsed: 0 in minute.. 12 in second\n",
            "\n",
            "Epoch: 9/25\n",
            "Training Loss: 0.5081789544237448.. Validation Loss: 0.45196855068206787\n",
            "Training Accuracy: 0.8267757296562195.. Validtion Accuracy: 0.8495999574661255\n",
            "Time Elapsed: 0 in minute.. 12 in second\n",
            "\n",
            "Epoch: 10/25\n",
            "Training Loss: 0.4877538420657105.. Validation Loss: 0.4915332496166229\n",
            "Training Accuracy: 0.8307569622993469.. Validtion Accuracy: 0.8319999575614929\n",
            "Time Elapsed: 0 in minute.. 11 in second\n",
            "\n",
            "Epoch: 11/25\n",
            "Training Loss: 0.4913110394499449.. Validation Loss: 0.44508159160614014\n",
            "Training Accuracy: 0.8305903673171997.. Validtion Accuracy: 0.8438000082969666\n",
            "Time Elapsed: 0 in minute.. 11 in second\n",
            "\n",
            "Epoch: 12/25\n",
            "Training Loss: 0.495295684014175.. Validation Loss: 0.4468924403190613\n",
            "Training Accuracy: 0.8298907279968262.. Validtion Accuracy: 0.8465999960899353\n",
            "Time Elapsed: 0 in minute.. 11 in second\n",
            "\n"
          ]
        }
      ]
    }
  ]
}